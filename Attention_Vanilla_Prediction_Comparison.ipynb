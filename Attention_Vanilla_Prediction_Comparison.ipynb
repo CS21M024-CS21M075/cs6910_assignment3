{
 "cells": [
  {
   "cell_type": "markdown",
   "id": "c3e30f99",
   "metadata": {},
   "source": [
    "## Necessary Imports"
   ]
  },
  {
   "cell_type": "code",
   "execution_count": 35,
   "id": "7cdc7adc",
   "metadata": {},
   "outputs": [],
   "source": [
    "import pandas as pd\n",
    "import random\n",
    "import wandb"
   ]
  },
  {
   "cell_type": "markdown",
   "id": "56f79ddf",
   "metadata": {},
   "source": [
    "## Read .csv files predicted by attention and vanilla model"
   ]
  },
  {
   "cell_type": "code",
   "execution_count": 36,
   "id": "fb509569",
   "metadata": {},
   "outputs": [],
   "source": [
    "df_attention = pd.read_csv(\"predictions_attention.csv\")\n",
    "df_vanilla = pd.read_csv(\"predictions_vanilla.csv\")"
   ]
  },
  {
   "cell_type": "code",
   "execution_count": 37,
   "id": "fd78414f",
   "metadata": {},
   "outputs": [
    {
     "name": "stdout",
     "output_type": "stream",
     "text": [
      "(4502, 3)\n",
      "(4502, 3)\n"
     ]
    }
   ],
   "source": [
    "print(df_attention.shape)\n",
    "print(df_vanilla.shape)"
   ]
  },
  {
   "cell_type": "code",
   "execution_count": 38,
   "id": "88cd1e08",
   "metadata": {},
   "outputs": [
    {
     "data": {
      "text/html": [
       "<div>\n",
       "<style scoped>\n",
       "    .dataframe tbody tr th:only-of-type {\n",
       "        vertical-align: middle;\n",
       "    }\n",
       "\n",
       "    .dataframe tbody tr th {\n",
       "        vertical-align: top;\n",
       "    }\n",
       "\n",
       "    .dataframe thead th {\n",
       "        text-align: right;\n",
       "    }\n",
       "</style>\n",
       "<table border=\"1\" class=\"dataframe\">\n",
       "  <thead>\n",
       "    <tr style=\"text-align: right;\">\n",
       "      <th></th>\n",
       "      <th>Input Sentence</th>\n",
       "      <th>Predicted Output Sentence</th>\n",
       "      <th>Original Target Sentence</th>\n",
       "    </tr>\n",
       "  </thead>\n",
       "  <tbody>\n",
       "    <tr>\n",
       "      <th>0</th>\n",
       "      <td>ank</td>\n",
       "      <td>अंक</td>\n",
       "      <td>अंक</td>\n",
       "    </tr>\n",
       "    <tr>\n",
       "      <th>1</th>\n",
       "      <td>anka</td>\n",
       "      <td>अंका</td>\n",
       "      <td>अंक</td>\n",
       "    </tr>\n",
       "    <tr>\n",
       "      <th>2</th>\n",
       "      <td>ankit</td>\n",
       "      <td>अंकित</td>\n",
       "      <td>अंकित</td>\n",
       "    </tr>\n",
       "    <tr>\n",
       "      <th>3</th>\n",
       "      <td>anakon</td>\n",
       "      <td>अनाकों</td>\n",
       "      <td>अंकों</td>\n",
       "    </tr>\n",
       "    <tr>\n",
       "      <th>4</th>\n",
       "      <td>ankhon</td>\n",
       "      <td>आंखों</td>\n",
       "      <td>अंकों</td>\n",
       "    </tr>\n",
       "  </tbody>\n",
       "</table>\n",
       "</div>"
      ],
      "text/plain": [
       "  Input Sentence Predicted Output Sentence Original Target Sentence\n",
       "0            ank                       अंक                      अंक\n",
       "1           anka                      अंका                      अंक\n",
       "2          ankit                     अंकित                    अंकित\n",
       "3         anakon                    अनाकों                    अंकों\n",
       "4         ankhon                     आंखों                    अंकों"
      ]
     },
     "execution_count": 38,
     "metadata": {},
     "output_type": "execute_result"
    }
   ],
   "source": [
    "df_vanilla.head()"
   ]
  },
  {
   "cell_type": "code",
   "execution_count": 39,
   "id": "82692781",
   "metadata": {},
   "outputs": [
    {
     "data": {
      "text/html": [
       "<div>\n",
       "<style scoped>\n",
       "    .dataframe tbody tr th:only-of-type {\n",
       "        vertical-align: middle;\n",
       "    }\n",
       "\n",
       "    .dataframe tbody tr th {\n",
       "        vertical-align: top;\n",
       "    }\n",
       "\n",
       "    .dataframe thead th {\n",
       "        text-align: right;\n",
       "    }\n",
       "</style>\n",
       "<table border=\"1\" class=\"dataframe\">\n",
       "  <thead>\n",
       "    <tr style=\"text-align: right;\">\n",
       "      <th></th>\n",
       "      <th>Input Sentence</th>\n",
       "      <th>Predicted Output Sentence</th>\n",
       "      <th>Original Target Sentence</th>\n",
       "    </tr>\n",
       "  </thead>\n",
       "  <tbody>\n",
       "    <tr>\n",
       "      <th>0</th>\n",
       "      <td>ank</td>\n",
       "      <td>अंक</td>\n",
       "      <td>अंक</td>\n",
       "    </tr>\n",
       "    <tr>\n",
       "      <th>1</th>\n",
       "      <td>anka</td>\n",
       "      <td>अंका</td>\n",
       "      <td>अंक</td>\n",
       "    </tr>\n",
       "    <tr>\n",
       "      <th>2</th>\n",
       "      <td>ankit</td>\n",
       "      <td>अंकित</td>\n",
       "      <td>अंकित</td>\n",
       "    </tr>\n",
       "    <tr>\n",
       "      <th>3</th>\n",
       "      <td>anakon</td>\n",
       "      <td>अनकों</td>\n",
       "      <td>अंकों</td>\n",
       "    </tr>\n",
       "    <tr>\n",
       "      <th>4</th>\n",
       "      <td>ankhon</td>\n",
       "      <td>अंखों</td>\n",
       "      <td>अंकों</td>\n",
       "    </tr>\n",
       "  </tbody>\n",
       "</table>\n",
       "</div>"
      ],
      "text/plain": [
       "  Input Sentence Predicted Output Sentence Original Target Sentence\n",
       "0            ank                       अंक                      अंक\n",
       "1           anka                      अंका                      अंक\n",
       "2          ankit                     अंकित                    अंकित\n",
       "3         anakon                     अनकों                    अंकों\n",
       "4         ankhon                     अंखों                    अंकों"
      ]
     },
     "execution_count": 39,
     "metadata": {},
     "output_type": "execute_result"
    }
   ],
   "source": [
    "df_attention.head()"
   ]
  },
  {
   "cell_type": "markdown",
   "id": "c5e536c9",
   "metadata": {},
   "source": [
    "## Code to get different predictions by the models"
   ]
  },
  {
   "cell_type": "code",
   "execution_count": 32,
   "id": "16e1c7db",
   "metadata": {},
   "outputs": [],
   "source": [
    "import random\n",
    "count = 0\n",
    "data = []\n",
    "while count<20:\n",
    "    i = random.randint(0,df_vanilla.shape[0]-1)\n",
    "    if df_vanilla[\"Predicted Output Sentence\"][i] != df_vanilla[\"Original Target Sentence\"][i] and df_attention[\"Predicted Output Sentence\"][i] == df_vanilla[\"Original Target Sentence\"][i]:\n",
    "        data.append([df_vanilla[\"Input Sentence\"][i],df_vanilla[\"Original Target Sentence\"][i],df_vanilla[\"Predicted Output Sentence\"][i],df_attention[\"Predicted Output Sentence\"][i]])\n",
    "        count += 1\n",
    "headers = [\"Input Sentence\",\"Original Target Sentence\",\"Vanilla Predicted Incorrect Output Sentence\",\"Attention Predicted Correct Output Sentence\"]"
   ]
  },
  {
   "cell_type": "code",
   "execution_count": 33,
   "id": "1575541c",
   "metadata": {},
   "outputs": [
    {
     "data": {
      "text/plain": [
       "[['rabin', 'राबिन', 'रबीन', 'राबिन'],\n",
       " ['achhi', 'अच्छी', 'अछी', 'अच्छी'],\n",
       " ['skhalan', 'स्खलन', 'स्कचान', 'स्खलन'],\n",
       " ['sohaval', 'सोहावल', 'सोहवाल', 'सोहावल'],\n",
       " ['grenite', 'ग्रेनाइट', 'ग्रेनीट', 'ग्रेनाइट'],\n",
       " ['bewakoofaanaa', 'बेवकूफाना', 'बेवकूफना', 'बेवकूफाना'],\n",
       " ['namdhari', 'नामधारी', 'नंधरी', 'नामधारी'],\n",
       " ['gammat', 'गम्मत', 'गममत', 'गम्मत'],\n",
       " ['sanskari', 'संस्कारी', 'संस्करी', 'संस्कारी'],\n",
       " ['qazi', 'काजी', 'काज़ी', 'काजी'],\n",
       " ['saptari', 'सप्तरी', 'सप्तारी', 'सप्तरी'],\n",
       " ['runners', 'रनर्स', 'रनसर', 'रनर्स'],\n",
       " ['oklahoma', 'ओकलाहोमा', 'ओकलाहों', 'ओकलाहोमा'],\n",
       " ['fansi', 'फांसी', 'फैंसी', 'फांसी'],\n",
       " ['krantiyon', 'क्रांतियों', 'क्रंतियों', 'क्रांतियों'],\n",
       " ['deepsingh', 'दीपसिंह', 'डिप्लिंश', 'दीपसिंह'],\n",
       " ['sitaharan', 'सीताहरण', 'सितारहन', 'सीताहरण'],\n",
       " ['chandan', 'चंदन', 'चांदन', 'चंदन'],\n",
       " ['gaumutr', 'गौमूत्र', 'गौमुत्र', 'गौमूत्र'],\n",
       " ['chand', 'चंद', 'चांड', 'चंद']]"
      ]
     },
     "execution_count": 33,
     "metadata": {},
     "output_type": "execute_result"
    }
   ],
   "source": [
    "data"
   ]
  },
  {
   "cell_type": "markdown",
   "id": "5e1650c5",
   "metadata": {},
   "source": [
    "## Loading Table to Wandb"
   ]
  },
  {
   "cell_type": "code",
   "execution_count": 34,
   "id": "daa3ae24",
   "metadata": {},
   "outputs": [
    {
     "data": {
      "text/html": [
       "Finishing last run (ID:3sc8fkln) before initializing another..."
      ],
      "text/plain": [
       "<IPython.core.display.HTML object>"
      ]
     },
     "metadata": {},
     "output_type": "display_data"
    },
    {
     "name": "stdout",
     "output_type": "stream",
     "text": [
      "\n"
     ]
    },
    {
     "data": {
      "text/html": [
       "Waiting for W&B process to finish... <strong style=\"color:green\">(success).</strong>"
      ],
      "text/plain": [
       "<IPython.core.display.HTML object>"
      ]
     },
     "metadata": {},
     "output_type": "display_data"
    },
    {
     "data": {
      "application/vnd.jupyter.widget-view+json": {
       "model_id": "",
       "version_major": 2,
       "version_minor": 0
      },
      "text/plain": [
       "VBox(children=(Label(value='0.001 MB of 0.001 MB uploaded (0.000 MB deduped)\\r'), FloatProgress(value=1.0, max…"
      ]
     },
     "metadata": {},
     "output_type": "display_data"
    },
    {
     "data": {
      "text/html": [
       "Synced <strong style=\"color:#cdcd00\">graceful-monkey-263</strong>: <a href=\"https://wandb.ai/cs21m024_cs21m075/CS6910-Assignment-3/runs/3sc8fkln\" target=\"_blank\">https://wandb.ai/cs21m024_cs21m075/CS6910-Assignment-3/runs/3sc8fkln</a><br/>Synced 5 W&B file(s), 0 media file(s), 0 artifact file(s) and 0 other file(s)"
      ],
      "text/plain": [
       "<IPython.core.display.HTML object>"
      ]
     },
     "metadata": {},
     "output_type": "display_data"
    },
    {
     "data": {
      "text/html": [
       "Find logs at: <code>.\\wandb\\run-20220508_170240-3sc8fkln\\logs</code>"
      ],
      "text/plain": [
       "<IPython.core.display.HTML object>"
      ]
     },
     "metadata": {},
     "output_type": "display_data"
    },
    {
     "data": {
      "text/html": [
       "Successfully finished last run (ID:3sc8fkln). Initializing new run:<br/>"
      ],
      "text/plain": [
       "<IPython.core.display.HTML object>"
      ]
     },
     "metadata": {},
     "output_type": "display_data"
    },
    {
     "data": {
      "text/html": [
       "wandb version 0.12.16 is available!  To upgrade, please run:\n",
       " $ pip install wandb --upgrade"
      ],
      "text/plain": [
       "<IPython.core.display.HTML object>"
      ]
     },
     "metadata": {},
     "output_type": "display_data"
    },
    {
     "data": {
      "text/html": [
       "Tracking run with wandb version 0.12.11"
      ],
      "text/plain": [
       "<IPython.core.display.HTML object>"
      ]
     },
     "metadata": {},
     "output_type": "display_data"
    },
    {
     "data": {
      "text/html": [
       "Run data is saved locally in <code>C:\\Users\\joyoj\\OneDrive\\Desktop\\DL_Final_Code\\to_github\\wandb\\run-20220508_170338-n57c33rt</code>"
      ],
      "text/plain": [
       "<IPython.core.display.HTML object>"
      ]
     },
     "metadata": {},
     "output_type": "display_data"
    },
    {
     "data": {
      "text/html": [
       "Syncing run <strong><a href=\"https://wandb.ai/cs21m024_cs21m075/CS6910-Assignment-3/runs/n57c33rt\" target=\"_blank\">lucky-wave-264</a></strong> to <a href=\"https://wandb.ai/cs21m024_cs21m075/CS6910-Assignment-3\" target=\"_blank\">Weights & Biases</a> (<a href=\"https://wandb.me/run\" target=\"_blank\">docs</a>)<br/>"
      ],
      "text/plain": [
       "<IPython.core.display.HTML object>"
      ]
     },
     "metadata": {},
     "output_type": "display_data"
    },
    {
     "name": "stdout",
     "output_type": "stream",
     "text": [
      "\n"
     ]
    },
    {
     "data": {
      "text/html": [
       "Waiting for W&B process to finish... <strong style=\"color:green\">(success).</strong>"
      ],
      "text/plain": [
       "<IPython.core.display.HTML object>"
      ]
     },
     "metadata": {},
     "output_type": "display_data"
    },
    {
     "data": {
      "application/vnd.jupyter.widget-view+json": {
       "model_id": "",
       "version_major": 2,
       "version_minor": 0
      },
      "text/plain": [
       "VBox(children=(Label(value='0.003 MB of 0.006 MB uploaded (0.000 MB deduped)\\r'), FloatProgress(value=0.550212…"
      ]
     },
     "metadata": {},
     "output_type": "display_data"
    },
    {
     "data": {
      "text/html": [
       "Synced <strong style=\"color:#cdcd00\">lucky-wave-264</strong>: <a href=\"https://wandb.ai/cs21m024_cs21m075/CS6910-Assignment-3/runs/n57c33rt\" target=\"_blank\">https://wandb.ai/cs21m024_cs21m075/CS6910-Assignment-3/runs/n57c33rt</a><br/>Synced 5 W&B file(s), 1 media file(s), 1 artifact file(s) and 0 other file(s)"
      ],
      "text/plain": [
       "<IPython.core.display.HTML object>"
      ]
     },
     "metadata": {},
     "output_type": "display_data"
    },
    {
     "data": {
      "text/html": [
       "Find logs at: <code>.\\wandb\\run-20220508_170338-n57c33rt\\logs</code>"
      ],
      "text/plain": [
       "<IPython.core.display.HTML object>"
      ]
     },
     "metadata": {},
     "output_type": "display_data"
    }
   ],
   "source": [
    "wandb.init(project=\"CS6910-Assignment-3\", entity=\"cs21m024_cs21m075\")\n",
    "my_table = wandb.Table(columns=headers, data=data)\n",
    "wandb.log({\"Q5C\": my_table})\n",
    "wandb.finish()"
   ]
  }
 ],
 "metadata": {
  "kernelspec": {
   "display_name": "Python 3 (ipykernel)",
   "language": "python",
   "name": "python3"
  },
  "language_info": {
   "codemirror_mode": {
    "name": "ipython",
    "version": 3
   },
   "file_extension": ".py",
   "mimetype": "text/x-python",
   "name": "python",
   "nbconvert_exporter": "python",
   "pygments_lexer": "ipython3",
   "version": "3.9.7"
  }
 },
 "nbformat": 4,
 "nbformat_minor": 5
}
