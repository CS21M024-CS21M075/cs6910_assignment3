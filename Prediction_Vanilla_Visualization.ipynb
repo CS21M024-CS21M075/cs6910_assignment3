{
 "cells": [
  {
   "cell_type": "markdown",
   "id": "888fea38",
   "metadata": {},
   "source": [
    "## Necessary Imports"
   ]
  },
  {
   "cell_type": "code",
   "execution_count": 1,
   "id": "0bef17fc",
   "metadata": {},
   "outputs": [
    {
     "name": "stdout",
     "output_type": "stream",
     "text": [
      "Requirement already satisfied: wandb in c:\\users\\joyoj\\anaconda3\\lib\\site-packages (0.12.11)\n",
      "Requirement already satisfied: shortuuid>=0.5.0 in c:\\users\\joyoj\\anaconda3\\lib\\site-packages (from wandb) (1.0.8)\n",
      "Requirement already satisfied: sentry-sdk>=1.0.0 in c:\\users\\joyoj\\anaconda3\\lib\\site-packages (from wandb) (1.5.8)\n",
      "Requirement already satisfied: pathtools in c:\\users\\joyoj\\anaconda3\\lib\\site-packages (from wandb) (0.1.2)\n",
      "Requirement already satisfied: setproctitle in c:\\users\\joyoj\\anaconda3\\lib\\site-packages (from wandb) (1.2.2)\n",
      "Requirement already satisfied: six>=1.13.0 in c:\\users\\joyoj\\anaconda3\\lib\\site-packages (from wandb) (1.16.0)\n",
      "Requirement already satisfied: docker-pycreds>=0.4.0 in c:\\users\\joyoj\\anaconda3\\lib\\site-packages (from wandb) (0.4.0)\n",
      "Requirement already satisfied: Click!=8.0.0,>=7.0 in c:\\users\\joyoj\\anaconda3\\lib\\site-packages (from wandb) (8.0.3)\n",
      "Requirement already satisfied: GitPython>=1.0.0 in c:\\users\\joyoj\\anaconda3\\lib\\site-packages (from wandb) (3.1.27)\n",
      "Requirement already satisfied: promise<3,>=2.0 in c:\\users\\joyoj\\anaconda3\\lib\\site-packages (from wandb) (2.3)\n",
      "Requirement already satisfied: python-dateutil>=2.6.1 in c:\\users\\joyoj\\anaconda3\\lib\\site-packages (from wandb) (2.8.2)\n",
      "Requirement already satisfied: yaspin>=1.0.0 in c:\\users\\joyoj\\anaconda3\\lib\\site-packages (from wandb) (2.1.0)\n",
      "Requirement already satisfied: psutil>=5.0.0 in c:\\users\\joyoj\\anaconda3\\lib\\site-packages (from wandb) (5.8.0)\n",
      "Requirement already satisfied: requests<3,>=2.0.0 in c:\\users\\joyoj\\anaconda3\\lib\\site-packages (from wandb) (2.26.0)\n",
      "Requirement already satisfied: protobuf>=3.12.0 in c:\\users\\joyoj\\anaconda3\\lib\\site-packages (from wandb) (3.19.4)\n",
      "Requirement already satisfied: PyYAML in c:\\users\\joyoj\\anaconda3\\lib\\site-packages (from wandb) (6.0)\n",
      "Requirement already satisfied: colorama in c:\\users\\joyoj\\anaconda3\\lib\\site-packages (from Click!=8.0.0,>=7.0->wandb) (0.4.4)\n",
      "Requirement already satisfied: gitdb<5,>=4.0.1 in c:\\users\\joyoj\\anaconda3\\lib\\site-packages (from GitPython>=1.0.0->wandb) (4.0.9)\n",
      "Requirement already satisfied: smmap<6,>=3.0.1 in c:\\users\\joyoj\\anaconda3\\lib\\site-packages (from gitdb<5,>=4.0.1->GitPython>=1.0.0->wandb) (5.0.0)\n",
      "Requirement already satisfied: charset-normalizer~=2.0.0 in c:\\users\\joyoj\\anaconda3\\lib\\site-packages (from requests<3,>=2.0.0->wandb) (2.0.4)\n",
      "Requirement already satisfied: certifi>=2017.4.17 in c:\\users\\joyoj\\anaconda3\\lib\\site-packages (from requests<3,>=2.0.0->wandb) (2021.10.8)\n",
      "Requirement already satisfied: urllib3<1.27,>=1.21.1 in c:\\users\\joyoj\\anaconda3\\lib\\site-packages (from requests<3,>=2.0.0->wandb) (1.26.7)\n",
      "Requirement already satisfied: idna<4,>=2.5 in c:\\users\\joyoj\\anaconda3\\lib\\site-packages (from requests<3,>=2.0.0->wandb) (3.2)\n",
      "Requirement already satisfied: termcolor<2.0.0,>=1.1.0 in c:\\users\\joyoj\\anaconda3\\lib\\site-packages (from yaspin>=1.0.0->wandb) (1.1.0)\n"
     ]
    }
   ],
   "source": [
    "!pip install wandb\n",
    "import pandas as pd\n",
    "import random\n",
    "import wandb"
   ]
  },
  {
   "cell_type": "markdown",
   "id": "962172a2",
   "metadata": {},
   "source": [
    "## Read Prediction_Vanilla .csv file"
   ]
  },
  {
   "cell_type": "code",
   "execution_count": 2,
   "id": "c3155fde",
   "metadata": {},
   "outputs": [],
   "source": [
    "df = pd.read_csv(\"predictions_vanilla.csv\")"
   ]
  },
  {
   "cell_type": "code",
   "execution_count": 3,
   "id": "35b0bddf",
   "metadata": {},
   "outputs": [
    {
     "data": {
      "text/html": [
       "<div>\n",
       "<style scoped>\n",
       "    .dataframe tbody tr th:only-of-type {\n",
       "        vertical-align: middle;\n",
       "    }\n",
       "\n",
       "    .dataframe tbody tr th {\n",
       "        vertical-align: top;\n",
       "    }\n",
       "\n",
       "    .dataframe thead th {\n",
       "        text-align: right;\n",
       "    }\n",
       "</style>\n",
       "<table border=\"1\" class=\"dataframe\">\n",
       "  <thead>\n",
       "    <tr style=\"text-align: right;\">\n",
       "      <th></th>\n",
       "      <th>Input Sentence</th>\n",
       "      <th>Original Target Sentence</th>\n",
       "      <th>Predicted Output Sentence</th>\n",
       "    </tr>\n",
       "  </thead>\n",
       "  <tbody>\n",
       "    <tr>\n",
       "      <th>0</th>\n",
       "      <td>ank</td>\n",
       "      <td>अंक</td>\n",
       "      <td>अंक</td>\n",
       "    </tr>\n",
       "    <tr>\n",
       "      <th>1</th>\n",
       "      <td>anka</td>\n",
       "      <td>अंका</td>\n",
       "      <td>अंक</td>\n",
       "    </tr>\n",
       "    <tr>\n",
       "      <th>2</th>\n",
       "      <td>ankit</td>\n",
       "      <td>अंकित</td>\n",
       "      <td>अंकित</td>\n",
       "    </tr>\n",
       "    <tr>\n",
       "      <th>3</th>\n",
       "      <td>anakon</td>\n",
       "      <td>अनाकों</td>\n",
       "      <td>अंकों</td>\n",
       "    </tr>\n",
       "    <tr>\n",
       "      <th>4</th>\n",
       "      <td>ankhon</td>\n",
       "      <td>आंखों</td>\n",
       "      <td>अंकों</td>\n",
       "    </tr>\n",
       "  </tbody>\n",
       "</table>\n",
       "</div>"
      ],
      "text/plain": [
       "  Input Sentence Original Target Sentence Predicted Output Sentence\n",
       "0            ank                      अंक                       अंक\n",
       "1           anka                     अंका                       अंक\n",
       "2          ankit                    अंकित                     अंकित\n",
       "3         anakon                   अनाकों                     अंकों\n",
       "4         ankhon                    आंखों                     अंकों"
      ]
     },
     "execution_count": 3,
     "metadata": {},
     "output_type": "execute_result"
    }
   ],
   "source": [
    "df.head()"
   ]
  },
  {
   "cell_type": "code",
   "execution_count": 4,
   "id": "49c8b23b",
   "metadata": {},
   "outputs": [],
   "source": [
    "input = df[\"Input Sentence\"]\n",
    "target = df[\"Original Target Sentence\"]\n",
    "output = df[\"Predicted Output Sentence\"]"
   ]
  },
  {
   "cell_type": "code",
   "execution_count": 7,
   "id": "4605212c",
   "metadata": {},
   "outputs": [],
   "source": [
    "# Random 20 Samples\n",
    "all_data = []\n",
    "for i in range(20):\n",
    "    idx = random.randint(0, len(input)-1)\n",
    "    all_data.append([input[idx],target[idx],output[idx]])\n",
    "\n",
    "headers = [\"Input Sentence\",\"Original Target Sentence\",\"Predicted Output Sentence\"]"
   ]
  },
  {
   "cell_type": "code",
   "execution_count": 8,
   "id": "408234ac",
   "metadata": {},
   "outputs": [
    {
     "data": {
      "text/plain": [
       "[['privacy', 'प्रिवासी', 'प्राइवेसी'],\n",
       " ['fodon', 'फोड़ों', 'फोड़ों'],\n",
       " ['peranormal', 'पेरानोर्मल', 'पैरानॉर्मल'],\n",
       " ['sachidanand', 'सचिदानंद', 'सच्चिदानंद'],\n",
       " ['lahlahati', 'लहहाजाती', 'लहलहाती'],\n",
       " ['warriors', 'वारियर्स', 'वारियर्स'],\n",
       " ['charge', 'चार्ज', 'चार्ज'],\n",
       " ['rowan', 'रोवण', 'रोवन'],\n",
       " ['gaen', 'गाएं', 'गाएं'],\n",
       " ['gandha', 'गंधा', 'गंध'],\n",
       " ['maas', 'मांस', 'मास'],\n",
       " ['martha', 'मार्था', 'मार्था'],\n",
       " ['kut', 'कुट', 'कूट'],\n",
       " ['spf', 'एसपीएस', 'एसपीएफ'],\n",
       " ['asaamnjsy', 'असामान्वय', 'असामंजस्य'],\n",
       " ['gomukh', 'गोमुख', 'गौमुख'],\n",
       " ['jaaunch', 'जानुच', 'जाँच'],\n",
       " ['koot', 'कूट', 'कूट'],\n",
       " ['kaldwell', 'काल्डवेल', 'काल्डवेल'],\n",
       " ['machanon', 'मचनों', 'मचानों']]"
      ]
     },
     "execution_count": 8,
     "metadata": {},
     "output_type": "execute_result"
    }
   ],
   "source": [
    "all_data"
   ]
  },
  {
   "cell_type": "markdown",
   "id": "3e5edc6c",
   "metadata": {},
   "source": [
    "## Loading Table to Wandb"
   ]
  },
  {
   "cell_type": "code",
   "execution_count": 9,
   "id": "02617b7a",
   "metadata": {},
   "outputs": [
    {
     "name": "stderr",
     "output_type": "stream",
     "text": [
      "\u001b[34m\u001b[1mwandb\u001b[0m: Currently logged in as: \u001b[33mcs21m024\u001b[0m (use `wandb login --relogin` to force relogin)\n"
     ]
    },
    {
     "data": {
      "text/html": [
       "wandb version 0.12.16 is available!  To upgrade, please run:\n",
       " $ pip install wandb --upgrade"
      ],
      "text/plain": [
       "<IPython.core.display.HTML object>"
      ]
     },
     "metadata": {},
     "output_type": "display_data"
    },
    {
     "data": {
      "text/html": [
       "Tracking run with wandb version 0.12.11"
      ],
      "text/plain": [
       "<IPython.core.display.HTML object>"
      ]
     },
     "metadata": {},
     "output_type": "display_data"
    },
    {
     "data": {
      "text/html": [
       "Run data is saved locally in <code>C:\\Users\\joyoj\\OneDrive\\Desktop\\DL_Final_Code\\wandb\\run-20220507_223348-2rdg8ubt</code>"
      ],
      "text/plain": [
       "<IPython.core.display.HTML object>"
      ]
     },
     "metadata": {},
     "output_type": "display_data"
    },
    {
     "data": {
      "text/html": [
       "Syncing run <strong><a href=\"https://wandb.ai/cs21m024_cs21m075/CS6910-Assignment-3/runs/2rdg8ubt\" target=\"_blank\">restful-fog-218</a></strong> to <a href=\"https://wandb.ai/cs21m024_cs21m075/CS6910-Assignment-3\" target=\"_blank\">Weights & Biases</a> (<a href=\"https://wandb.me/run\" target=\"_blank\">docs</a>)<br/>"
      ],
      "text/plain": [
       "<IPython.core.display.HTML object>"
      ]
     },
     "metadata": {},
     "output_type": "display_data"
    },
    {
     "name": "stdout",
     "output_type": "stream",
     "text": [
      "\n"
     ]
    },
    {
     "data": {
      "text/html": [
       "Waiting for W&B process to finish... <strong style=\"color:green\">(success).</strong>"
      ],
      "text/plain": [
       "<IPython.core.display.HTML object>"
      ]
     },
     "metadata": {},
     "output_type": "display_data"
    },
    {
     "data": {
      "application/vnd.jupyter.widget-view+json": {
       "model_id": "",
       "version_major": 2,
       "version_minor": 0
      },
      "text/plain": [
       "VBox(children=(Label(value='0.002 MB of 0.004 MB uploaded (0.000 MB deduped)\\r'), FloatProgress(value=0.554865…"
      ]
     },
     "metadata": {},
     "output_type": "display_data"
    },
    {
     "data": {
      "text/html": [
       "Synced <strong style=\"color:#cdcd00\">restful-fog-218</strong>: <a href=\"https://wandb.ai/cs21m024_cs21m075/CS6910-Assignment-3/runs/2rdg8ubt\" target=\"_blank\">https://wandb.ai/cs21m024_cs21m075/CS6910-Assignment-3/runs/2rdg8ubt</a><br/>Synced 5 W&B file(s), 1 media file(s), 1 artifact file(s) and 0 other file(s)"
      ],
      "text/plain": [
       "<IPython.core.display.HTML object>"
      ]
     },
     "metadata": {},
     "output_type": "display_data"
    },
    {
     "data": {
      "text/html": [
       "Find logs at: <code>.\\wandb\\run-20220507_223348-2rdg8ubt\\logs</code>"
      ],
      "text/plain": [
       "<IPython.core.display.HTML object>"
      ]
     },
     "metadata": {},
     "output_type": "display_data"
    }
   ],
   "source": [
    "wandb.init(project=\"CS6910-Assignment-3\", entity=\"cs21m024_cs21m075\")\n",
    "my_table = wandb.Table(columns=headers, data=all_data)\n",
    "wandb.log({\"Q4B\": my_table})\n",
    "wandb.finish()"
   ]
  }
 ],
 "metadata": {
  "kernelspec": {
   "display_name": "Python 3 (ipykernel)",
   "language": "python",
   "name": "python3"
  },
  "language_info": {
   "codemirror_mode": {
    "name": "ipython",
    "version": 3
   },
   "file_extension": ".py",
   "mimetype": "text/x-python",
   "name": "python",
   "nbconvert_exporter": "python",
   "pygments_lexer": "ipython3",
   "version": "3.9.7"
  }
 },
 "nbformat": 4,
 "nbformat_minor": 5
}
